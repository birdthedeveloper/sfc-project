{
 "cells": [
  {
   "cell_type": "markdown",
   "metadata": {},
   "source": [
    "# This is a demo for sfc project\n",
    "Author: Martin Ptacek\n",
    "Project variant: Predikce řešená dopřednou backprop. NN\n",
    "Recurrent networks, 2/29. - Tapped delay line forward feed neural net or TDNN"
   ]
  },
  {
   "cell_type": "code",
   "execution_count": 2,
   "metadata": {},
   "outputs": [],
   "source": [
    "import numpy as np\n",
    "import pandas as pd"
   ]
  },
  {
   "cell_type": "code",
   "execution_count": 3,
   "metadata": {},
   "outputs": [
    {
     "name": "stdout",
     "output_type": "stream",
     "text": [
      "              DateTime  Consumption\n",
      "0  2019-01-01 00:00:00         6352\n",
      "1  2019-01-01 01:00:00         6116\n",
      "2  2019-01-01 02:00:00         5873\n",
      "3  2019-01-01 03:00:00         5682\n",
      "4  2019-01-01 04:00:00         5557\n"
     ]
    }
   ],
   "source": [
    "# load dataset\n",
    "path = 'dataset_slim.csv'\n",
    "df = pd.read_csv(path)\n",
    "print(df.head())"
   ]
  },
  {
   "cell_type": "code",
   "execution_count": 4,
   "metadata": {},
   "outputs": [
    {
     "data": {
      "text/plain": [
       "DateTime       0\n",
       "Consumption    0\n",
       "dtype: int64"
      ]
     },
     "execution_count": 4,
     "metadata": {},
     "output_type": "execute_result"
    }
   ],
   "source": [
    "# Check for missing values in the data\n",
    "df.isnull().sum()"
   ]
  },
  {
   "cell_type": "code",
   "execution_count": 5,
   "metadata": {},
   "outputs": [
    {
     "data": {
      "text/html": [
       "<div>\n",
       "<style scoped>\n",
       "    .dataframe tbody tr th:only-of-type {\n",
       "        vertical-align: middle;\n",
       "    }\n",
       "\n",
       "    .dataframe tbody tr th {\n",
       "        vertical-align: top;\n",
       "    }\n",
       "\n",
       "    .dataframe thead th {\n",
       "        text-align: right;\n",
       "    }\n",
       "</style>\n",
       "<table border=\"1\" class=\"dataframe\">\n",
       "  <thead>\n",
       "    <tr style=\"text-align: right;\">\n",
       "      <th></th>\n",
       "      <th>Consumption</th>\n",
       "    </tr>\n",
       "  </thead>\n",
       "  <tbody>\n",
       "    <tr>\n",
       "      <th>count</th>\n",
       "      <td>46011.000000</td>\n",
       "    </tr>\n",
       "    <tr>\n",
       "      <th>mean</th>\n",
       "      <td>6587.616440</td>\n",
       "    </tr>\n",
       "    <tr>\n",
       "      <th>std</th>\n",
       "      <td>1043.654923</td>\n",
       "    </tr>\n",
       "    <tr>\n",
       "      <th>min</th>\n",
       "      <td>3889.000000</td>\n",
       "    </tr>\n",
       "    <tr>\n",
       "      <th>25%</th>\n",
       "      <td>5773.000000</td>\n",
       "    </tr>\n",
       "    <tr>\n",
       "      <th>50%</th>\n",
       "      <td>6552.000000</td>\n",
       "    </tr>\n",
       "    <tr>\n",
       "      <th>75%</th>\n",
       "      <td>7321.000000</td>\n",
       "    </tr>\n",
       "    <tr>\n",
       "      <th>max</th>\n",
       "      <td>9615.000000</td>\n",
       "    </tr>\n",
       "  </tbody>\n",
       "</table>\n",
       "</div>"
      ],
      "text/plain": [
       "        Consumption\n",
       "count  46011.000000\n",
       "mean    6587.616440\n",
       "std     1043.654923\n",
       "min     3889.000000\n",
       "25%     5773.000000\n",
       "50%     6552.000000\n",
       "75%     7321.000000\n",
       "max     9615.000000"
      ]
     },
     "execution_count": 5,
     "metadata": {},
     "output_type": "execute_result"
    }
   ],
   "source": [
    "# Check for anomalies\n",
    "df.describe()"
   ]
  },
  {
   "cell_type": "code",
   "execution_count": 6,
   "metadata": {},
   "outputs": [],
   "source": [
    "# Get numpy array and normalize it\n",
    "array = df[\"Consumption\"].to_numpy()\n",
    "array = array[:(len(array) // 24) * 24]\n"
   ]
  },
  {
   "cell_type": "code",
   "execution_count": 7,
   "metadata": {},
   "outputs": [],
   "source": [
    "# downsample to day\n",
    "factor = 24\n",
    "\n",
    "# Reshape data to ensure it can be averaged in chunks\n",
    "downsampled_data = np.mean(array.reshape(-1, factor), axis=1)\n",
    "\n",
    "\n",
    "# Z-score normalization\n",
    "std = np.std(downsampled_data)\n",
    "mean = np.mean(downsampled_data)\n",
    "normalized_array = (downsampled_data - mean) / std"
   ]
  },
  {
   "cell_type": "code",
   "execution_count": null,
   "metadata": {},
   "outputs": [],
   "source": [
    "# model my own\n",
    "\n",
    "def sigmoid(x):\n",
    "    return 1 / (1 + np.exp(-x))\n",
    "\n",
    "def sigmoid_deriv(x):\n",
    "    return x * (1 - x)\n",
    "\n",
    "# Two layer neural network with one hidden layer\n",
    "class TDNN(object):\n",
    "\n",
    "    def __init__(self, delay_line_length, hidden_layer_size, learning_rate):\n",
    "        self.output_layer_size = 1 # predict one next value from n previous values\n",
    "        self.delay_line_length = delay_line_length\n",
    "        self.hidden_layer_size = hidden_layer_size\n",
    "        self.learning_rate = learning_rate\n",
    "        \n",
    "        self.initialize_weights()\n",
    "        self.initialize_biases()\n",
    "        \n",
    "    def initialize_weights(self):\n",
    "        \"\"\"Perform a simple random initialization of the weights\"\"\"\n",
    "        self.weights_hidden_layer = np.random.rand(self.delay_line_length, self.hidden_layer_size)\n",
    "        self.weights_output_layer = np.random.rand(self.hidden_layer_size, self.output_layer_size)\n",
    "    \n",
    "    def initialize_biases(self):\n",
    "        self.bias_hidden_layer = np.random.rand(1, self.hidden_layer_size)\n",
    "        self.bias_output_layer = np.random.rand(1, self.output_layer_size)\n",
    "        \n",
    "    def forward(self, input_data):\n",
    "        assert len(input_data) == self.delay_line_length, \"Input data must have the same length as the delay line\"\n",
    "        \n",
    "        self.hidden_layer_output = sigmoid(np.dot(input_data, self.weights_hidden_layer) + self.bias_hidden_layer)\n",
    "        return sigmoid(np.dot(self.hidden_layer_output, self.weights_output_layer) + self.bias_output_layer)\n",
    "    \n",
    "    def backward(self, input_data, desired_output, actual_output):\n",
    "        # TODO copyed, rewrite this thing\n",
    "        # Calculating the error\n",
    "        output_error = desired_output - actual_output\n",
    "        output_delta = output_error * sigmoid_deriv(actual_output)\n",
    "\n",
    "        # Calculating the hidden layer error\n",
    "        hidden_error = output_delta.dot(self.weights_output_layer.T)\n",
    "        hidden_delta = hidden_error * sigmoid_deriv(self.hidden_output)\n",
    "        \n",
    "        lr = self.learning_rate\n",
    "\n",
    "        # Update the weights and biases\n",
    "        self.weights_hidden_layer += self.hidden_output.T.dot(output_delta) * lr\n",
    "        self.bias_output_layer += np.sum(output_delta, axis=0, keepdims=True) * lr\n",
    "        self.weights_hidden_layer += input_data.T.dot(hidden_delta) * lr\n",
    "        self.bias_hidden_layer += np.sum(hidden_delta, axis=0, keepdims=True) * lr\n",
    "    \n",
    "    # TODO\n",
    "    def predict_next_n_values(self, n, input_data):\n",
    "        pass\n",
    "    \n",
    "    # TODO\n",
    "    def train(self, timeseries_data):\n",
    "        pass\n"
   ]
  },
  {
   "cell_type": "code",
   "execution_count": 20,
   "metadata": {},
   "outputs": [],
   "source": [
    "class TappedDelayLine:\n",
    "    def __init__(self, delay_length):\n",
    "        self.delay_length = delay_length\n",
    "        self.buffer = np.zeros(delay_length)  # Store past inputs\n",
    "    \n",
    "    def process(self, x):\n",
    "        # Shift the values in the buffer\n",
    "        self.buffer = np.roll(self.buffer, 1)\n",
    "        self.buffer[0] = x  # Insert the new sample at the front\n",
    "        return self.buffer  # Return the entire buffer as input\n",
    "\n",
    "# Define a simple Neural Network class\n",
    "class TDLNN:\n",
    "    def __init__(self, delay_length, input_size, output_size):\n",
    "        # Create a tapped delay line with a specific delay length\n",
    "        self.tdl = TappedDelayLine(delay_length)\n",
    "        self.input_size = input_size\n",
    "        self.output_size = output_size\n",
    "        \n",
    "        # Initialize weights and bias\n",
    "        self.weights = np.random.randn(delay_length * input_size, output_size)\n",
    "        self.bias = np.zeros((1, output_size))\n",
    "    \n",
    "    def forward(self, x):\n",
    "        # Process the input through the delay line\n",
    "        delayed_input = self.tdl.process(x)\n",
    "        \n",
    "        # Flatten delayed input to feed into the neural network\n",
    "        delayed_input_flat = delayed_input.flatten()\n",
    "        \n",
    "        # Compute the output of the network\n",
    "        output = np.dot(delayed_input_flat, self.weights) + self.bias\n",
    "        return output\n",
    "    \n",
    "    def backward(self, x, target, learning_rate=0.01):\n",
    "        # Forward pass to get prediction\n",
    "        output = self.forward(x)\n",
    "        \n",
    "        # Compute the error\n",
    "        error = output - target\n",
    "        \n",
    "        # Backpropagation: Compute gradients for weights and bias\n",
    "        delayed_input = self.tdl.buffer\n",
    "        delayed_input_flat = delayed_input.flatten()\n",
    "        \n",
    "        # Gradients for weights and bias\n",
    "        d_weights = np.outer(delayed_input_flat, error)\n",
    "        d_bias = error\n",
    "        \n",
    "        # Update weights and biases\n",
    "        self.weights -= learning_rate * d_weights\n",
    "        self.bias -= learning_rate * d_bias\n",
    "    \n",
    "    def train(self, X, Y, epochs=1000, learning_rate=0.1):\n",
    "        for epoch in range(epochs):\n",
    "            total_loss = 0\n",
    "            for i in range(len(X)):\n",
    "                x = X[i]\n",
    "                y = Y[i]\n",
    "                \n",
    "                output = self.forward(x)\n",
    "                \n",
    "                # Compute the loss (Mean Squared Error)\n",
    "                loss = np.mean((output - y) ** 2)\n",
    "                total_loss += loss  # Accumulate loss\n",
    "\n",
    "                self.backward(x, y, learning_rate)\n",
    "                \n",
    "            if epoch % 100 == 0:\n",
    "                avg_loss = total_loss / len(X)\n",
    "                print(f'Epoch {epoch}/{epochs} complete, avg loss: {avg_loss:.6f}')"
   ]
  },
  {
   "cell_type": "code",
   "execution_count": 21,
   "metadata": {},
   "outputs": [
    {
     "name": "stderr",
     "output_type": "stream",
     "text": [
      "/tmp/ipykernel_121616/2077956987.py:9: DeprecationWarning: Conversion of an array with ndim > 0 to a scalar is deprecated, and will error in future. Ensure you extract a single element from your array before performing this operation. (Deprecated NumPy 1.25.)\n",
      "  self.buffer[0] = x  # Insert the new sample at the front\n"
     ]
    },
    {
     "name": "stdout",
     "output_type": "stream",
     "text": [
      "Epoch 0/1000 complete, avg loss: 11.320745\n",
      "Epoch 100/1000 complete, avg loss: 11.527012\n",
      "Epoch 200/1000 complete, avg loss: 11.527012\n",
      "Epoch 300/1000 complete, avg loss: 11.527012\n",
      "Epoch 400/1000 complete, avg loss: 11.527012\n"
     ]
    },
    {
     "ename": "KeyboardInterrupt",
     "evalue": "",
     "output_type": "error",
     "traceback": [
      "\u001b[0;31m---------------------------------------------------------------------------\u001b[0m",
      "\u001b[0;31mKeyboardInterrupt\u001b[0m                         Traceback (most recent call last)",
      "Cell \u001b[0;32mIn[21], line 18\u001b[0m\n\u001b[1;32m     15\u001b[0m model \u001b[38;5;241m=\u001b[39m TDLNN(delay_length, input_size, output_size)\n\u001b[1;32m     17\u001b[0m \u001b[38;5;66;03m# Train the model\u001b[39;00m\n\u001b[0;32m---> 18\u001b[0m \u001b[43mmodel\u001b[49m\u001b[38;5;241;43m.\u001b[39;49m\u001b[43mtrain\u001b[49m\u001b[43m(\u001b[49m\u001b[43mX\u001b[49m\u001b[43m,\u001b[49m\u001b[43m \u001b[49m\u001b[43mY\u001b[49m\u001b[43m,\u001b[49m\u001b[43m \u001b[49m\u001b[43mepochs\u001b[49m\u001b[38;5;241;43m=\u001b[39;49m\u001b[38;5;241;43m1000\u001b[39;49m\u001b[43m,\u001b[49m\u001b[43m \u001b[49m\u001b[43mlearning_rate\u001b[49m\u001b[38;5;241;43m=\u001b[39;49m\u001b[38;5;241;43m0.01\u001b[39;49m\u001b[43m)\u001b[49m\n\u001b[1;32m     20\u001b[0m \u001b[38;5;66;03m# Test the trained model\u001b[39;00m\n\u001b[1;32m     21\u001b[0m test_input \u001b[38;5;241m=\u001b[39m np\u001b[38;5;241m.\u001b[39mrandom\u001b[38;5;241m.\u001b[39mrandn(\u001b[38;5;241m1\u001b[39m)\n",
      "Cell \u001b[0;32mIn[20], line 67\u001b[0m, in \u001b[0;36mTDLNN.train\u001b[0;34m(self, X, Y, epochs, learning_rate)\u001b[0m\n\u001b[1;32m     64\u001b[0m     loss \u001b[38;5;241m=\u001b[39m np\u001b[38;5;241m.\u001b[39mmean((output \u001b[38;5;241m-\u001b[39m y) \u001b[38;5;241m*\u001b[39m\u001b[38;5;241m*\u001b[39m \u001b[38;5;241m2\u001b[39m)\n\u001b[1;32m     65\u001b[0m     total_loss \u001b[38;5;241m+\u001b[39m\u001b[38;5;241m=\u001b[39m loss  \u001b[38;5;66;03m# Accumulate loss\u001b[39;00m\n\u001b[0;32m---> 67\u001b[0m     \u001b[38;5;28;43mself\u001b[39;49m\u001b[38;5;241;43m.\u001b[39;49m\u001b[43mbackward\u001b[49m\u001b[43m(\u001b[49m\u001b[43mx\u001b[49m\u001b[43m,\u001b[49m\u001b[43m \u001b[49m\u001b[43my\u001b[49m\u001b[43m,\u001b[49m\u001b[43m \u001b[49m\u001b[43mlearning_rate\u001b[49m\u001b[43m)\u001b[49m\n\u001b[1;32m     69\u001b[0m \u001b[38;5;28;01mif\u001b[39;00m epoch \u001b[38;5;241m%\u001b[39m \u001b[38;5;241m100\u001b[39m \u001b[38;5;241m==\u001b[39m \u001b[38;5;241m0\u001b[39m:\n\u001b[1;32m     70\u001b[0m     avg_loss \u001b[38;5;241m=\u001b[39m total_loss \u001b[38;5;241m/\u001b[39m \u001b[38;5;28mlen\u001b[39m(X)\n",
      "Cell \u001b[0;32mIn[20], line 44\u001b[0m, in \u001b[0;36mTDLNN.backward\u001b[0;34m(self, x, target, learning_rate)\u001b[0m\n\u001b[1;32m     42\u001b[0m \u001b[38;5;66;03m# Backpropagation: Compute gradients for weights and bias\u001b[39;00m\n\u001b[1;32m     43\u001b[0m delayed_input \u001b[38;5;241m=\u001b[39m \u001b[38;5;28mself\u001b[39m\u001b[38;5;241m.\u001b[39mtdl\u001b[38;5;241m.\u001b[39mbuffer\n\u001b[0;32m---> 44\u001b[0m delayed_input_flat \u001b[38;5;241m=\u001b[39m \u001b[43mdelayed_input\u001b[49m\u001b[38;5;241;43m.\u001b[39;49m\u001b[43mflatten\u001b[49m\u001b[43m(\u001b[49m\u001b[43m)\u001b[49m\n\u001b[1;32m     46\u001b[0m \u001b[38;5;66;03m# Gradients for weights and bias\u001b[39;00m\n\u001b[1;32m     47\u001b[0m d_weights \u001b[38;5;241m=\u001b[39m np\u001b[38;5;241m.\u001b[39mouter(delayed_input_flat, error)\n",
      "\u001b[0;31mKeyboardInterrupt\u001b[0m: "
     ]
    }
   ],
   "source": [
    "# Create a simple dataset for training\n",
    "# For simplicity, let's train the TDLNN to learn a simple time-series function\n",
    "# (e.g., a delayed signal) and learn to predict future values.\n",
    "X = np.random.randn(1000)  # 1000 samples of random input\n",
    "Y = np.roll(X, -1)  # Target is simply a shifted version of the input signal\n",
    "\n",
    "# Reshape X and Y to match expected input/output sizes\n",
    "X = X.reshape(-1, 1)\n",
    "Y = Y.reshape(-1, 1)\n",
    "\n",
    "# Initialize and train the TDLNN\n",
    "delay_length = 5  # Using a delay of 5 time steps\n",
    "input_size = 1  # Each input is a scalar (in this case)\n",
    "output_size = 1  # Output is a scalar as well\n",
    "model = TDLNN(delay_length, input_size, output_size)\n",
    "\n",
    "# Train the model\n",
    "model.train(X, Y, epochs=1000, learning_rate=0.01)\n",
    "\n",
    "# Test the trained model\n",
    "test_input = np.random.randn(1)\n",
    "predicted_output = model.forward(test_input)\n",
    "print(f\"Test Input: {test_input}\")\n",
    "print(f\"Predicted Output: {predicted_output}\")\n"
   ]
  },
  {
   "cell_type": "code",
   "execution_count": 15,
   "metadata": {},
   "outputs": [
    {
     "ename": "ValueError",
     "evalue": "shapes (32,32) and (1,300) not aligned: 32 (dim 1) != 1 (dim 0)",
     "output_type": "error",
     "traceback": [
      "\u001b[0;31m---------------------------------------------------------------------------\u001b[0m",
      "\u001b[0;31mValueError\u001b[0m                                Traceback (most recent call last)",
      "Cell \u001b[0;32mIn[15], line 3\u001b[0m\n\u001b[1;32m      1\u001b[0m delay_line_length \u001b[38;5;241m=\u001b[39m \u001b[38;5;241m30\u001b[39m \u001b[38;5;241m*\u001b[39m \u001b[38;5;241m12\u001b[39m \u001b[38;5;241m*\u001b[39m \u001b[38;5;241m3\u001b[39m\n\u001b[1;32m      2\u001b[0m model \u001b[38;5;241m=\u001b[39m FeedForwardNeuralNetwork(delay_line_length, \u001b[38;5;241m300\u001b[39m)\n\u001b[0;32m----> 3\u001b[0m \u001b[43mmodel\u001b[49m\u001b[38;5;241;43m.\u001b[39;49m\u001b[43mtrain\u001b[49m\u001b[43m(\u001b[49m\u001b[43mnormalized_array\u001b[49m\u001b[43m,\u001b[49m\u001b[43m \u001b[49m\u001b[38;5;241;43m1000\u001b[39;49m\u001b[43m,\u001b[49m\u001b[43m \u001b[49m\u001b[38;5;241;43m0.01\u001b[39;49m\u001b[43m)\u001b[49m\n",
      "Cell \u001b[0;32mIn[13], line 73\u001b[0m, in \u001b[0;36mFeedForwardNeuralNetwork.train\u001b[0;34m(self, timeseries, epochs, learning_rate, batch_size)\u001b[0m\n\u001b[1;32m     70\u001b[0m \u001b[38;5;28mself\u001b[39m\u001b[38;5;241m.\u001b[39mforward(mini_batch)\n\u001b[1;32m     72\u001b[0m \u001b[38;5;66;03m# Backward pass and weight updates\u001b[39;00m\n\u001b[0;32m---> 73\u001b[0m \u001b[38;5;28;43mself\u001b[39;49m\u001b[38;5;241;43m.\u001b[39;49m\u001b[43mbackward\u001b[49m\u001b[43m(\u001b[49m\u001b[43mmini_batch\u001b[49m\u001b[43m,\u001b[49m\u001b[43m \u001b[49m\u001b[43mdesired_output\u001b[49m\u001b[43m,\u001b[49m\u001b[43m \u001b[49m\u001b[43mlearning_rate\u001b[49m\u001b[43m)\u001b[49m\n\u001b[1;32m     75\u001b[0m loss \u001b[38;5;241m+\u001b[39m\u001b[38;5;241m=\u001b[39m np\u001b[38;5;241m.\u001b[39mmean(np\u001b[38;5;241m.\u001b[39msquare(desired_output \u001b[38;5;241m-\u001b[39m \u001b[38;5;28mself\u001b[39m\u001b[38;5;241m.\u001b[39mfinal_output))\n\u001b[1;32m     77\u001b[0m \u001b[38;5;66;03m# Optionally print the error at each epoch\u001b[39;00m\n",
      "Cell \u001b[0;32mIn[13], line 40\u001b[0m, in \u001b[0;36mFeedForwardNeuralNetwork.backward\u001b[0;34m(self, input_data, target_output, learning_rate)\u001b[0m\n\u001b[1;32m     37\u001b[0m output_delta \u001b[38;5;241m=\u001b[39m output_error \u001b[38;5;241m*\u001b[39m sigmoid_derivative(\u001b[38;5;28mself\u001b[39m\u001b[38;5;241m.\u001b[39mfinal_output)\n\u001b[1;32m     39\u001b[0m \u001b[38;5;66;03m# Calculating the hidden layer error\u001b[39;00m\n\u001b[0;32m---> 40\u001b[0m hidden_error \u001b[38;5;241m=\u001b[39m \u001b[43moutput_delta\u001b[49m\u001b[38;5;241;43m.\u001b[39;49m\u001b[43mdot\u001b[49m\u001b[43m(\u001b[49m\u001b[38;5;28;43mself\u001b[39;49m\u001b[38;5;241;43m.\u001b[39;49m\u001b[43mweights_hidden_output\u001b[49m\u001b[38;5;241;43m.\u001b[39;49m\u001b[43mT\u001b[49m\u001b[43m)\u001b[49m\n\u001b[1;32m     41\u001b[0m hidden_delta \u001b[38;5;241m=\u001b[39m hidden_error \u001b[38;5;241m*\u001b[39m sigmoid_derivative(\u001b[38;5;28mself\u001b[39m\u001b[38;5;241m.\u001b[39mhidden_output)\n\u001b[1;32m     43\u001b[0m \u001b[38;5;66;03m# Update the weights and biases\u001b[39;00m\n",
      "\u001b[0;31mValueError\u001b[0m: shapes (32,32) and (1,300) not aligned: 32 (dim 1) != 1 (dim 0)"
     ]
    }
   ],
   "source": [
    "delay_line_length = 30 * 12 * 3\n",
    "model = FeedForwardNeuralNetwork(delay_line_length, 300)\n",
    "model.train(normalized_array, 1000, 0.01)"
   ]
  }
 ],
 "metadata": {
  "kernelspec": {
   "display_name": ".venv",
   "language": "python",
   "name": "python3"
  },
  "language_info": {
   "codemirror_mode": {
    "name": "ipython",
    "version": 3
   },
   "file_extension": ".py",
   "mimetype": "text/x-python",
   "name": "python",
   "nbconvert_exporter": "python",
   "pygments_lexer": "ipython3",
   "version": "3.13.0"
  }
 },
 "nbformat": 4,
 "nbformat_minor": 2
}
