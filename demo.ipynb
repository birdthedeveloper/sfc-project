{
 "cells": [
  {
   "cell_type": "markdown",
   "metadata": {},
   "source": [
    "# This is a demo for sfc project\n",
    "Author: Martin Ptacek\n",
    "Project variant: Predikce řešená dopřednou backprop. NN\n",
    "Recurrent networks, 2/29. - Tapped delay line forward feed neural net or TDNN"
   ]
  },
  {
   "cell_type": "code",
   "execution_count": null,
   "metadata": {},
   "outputs": [],
   "source": [
    "import numpy as np\n",
    "import pandas as pd"
   ]
  },
  {
   "cell_type": "code",
   "execution_count": 7,
   "metadata": {},
   "outputs": [
    {
     "name": "stdout",
     "output_type": "stream",
     "text": [
      "              DateTime  Consumption\n",
      "0  2019-01-01 00:00:00         6352\n",
      "1  2019-01-01 01:00:00         6116\n",
      "2  2019-01-01 02:00:00         5873\n",
      "3  2019-01-01 03:00:00         5682\n",
      "4  2019-01-01 04:00:00         5557\n"
     ]
    }
   ],
   "source": [
    "# load dataset\n",
    "path = 'dataset_slim.csv'\n",
    "df = pd.read_csv(path)\n",
    "print(df.head())"
   ]
  },
  {
   "cell_type": "code",
   "execution_count": null,
   "metadata": {},
   "outputs": [
    {
     "data": {
      "text/plain": [
       "DateTime       0\n",
       "Consumption    0\n",
       "dtype: int64"
      ]
     },
     "execution_count": 8,
     "metadata": {},
     "output_type": "execute_result"
    }
   ],
   "source": [
    "# Check for missing values in the data\n",
    "df.isnull().sum()"
   ]
  },
  {
   "cell_type": "code",
   "execution_count": 9,
   "metadata": {},
   "outputs": [
    {
     "data": {
      "text/html": [
       "<div>\n",
       "<style scoped>\n",
       "    .dataframe tbody tr th:only-of-type {\n",
       "        vertical-align: middle;\n",
       "    }\n",
       "\n",
       "    .dataframe tbody tr th {\n",
       "        vertical-align: top;\n",
       "    }\n",
       "\n",
       "    .dataframe thead th {\n",
       "        text-align: right;\n",
       "    }\n",
       "</style>\n",
       "<table border=\"1\" class=\"dataframe\">\n",
       "  <thead>\n",
       "    <tr style=\"text-align: right;\">\n",
       "      <th></th>\n",
       "      <th>Consumption</th>\n",
       "    </tr>\n",
       "  </thead>\n",
       "  <tbody>\n",
       "    <tr>\n",
       "      <th>count</th>\n",
       "      <td>46011.000000</td>\n",
       "    </tr>\n",
       "    <tr>\n",
       "      <th>mean</th>\n",
       "      <td>6587.616440</td>\n",
       "    </tr>\n",
       "    <tr>\n",
       "      <th>std</th>\n",
       "      <td>1043.654923</td>\n",
       "    </tr>\n",
       "    <tr>\n",
       "      <th>min</th>\n",
       "      <td>3889.000000</td>\n",
       "    </tr>\n",
       "    <tr>\n",
       "      <th>25%</th>\n",
       "      <td>5773.000000</td>\n",
       "    </tr>\n",
       "    <tr>\n",
       "      <th>50%</th>\n",
       "      <td>6552.000000</td>\n",
       "    </tr>\n",
       "    <tr>\n",
       "      <th>75%</th>\n",
       "      <td>7321.000000</td>\n",
       "    </tr>\n",
       "    <tr>\n",
       "      <th>max</th>\n",
       "      <td>9615.000000</td>\n",
       "    </tr>\n",
       "  </tbody>\n",
       "</table>\n",
       "</div>"
      ],
      "text/plain": [
       "        Consumption\n",
       "count  46011.000000\n",
       "mean    6587.616440\n",
       "std     1043.654923\n",
       "min     3889.000000\n",
       "25%     5773.000000\n",
       "50%     6552.000000\n",
       "75%     7321.000000\n",
       "max     9615.000000"
      ]
     },
     "execution_count": 9,
     "metadata": {},
     "output_type": "execute_result"
    }
   ],
   "source": [
    "# Check for anomalies\n",
    "df.describe()"
   ]
  },
  {
   "cell_type": "code",
   "execution_count": null,
   "metadata": {},
   "outputs": [],
   "source": [
    "# Get numpy array and normalize it\n",
    "array = df[\"Consumption\"].to_numpy()\n",
    "\n",
    "# Z-score normalization\n",
    "std = np.std(array)\n",
    "mean = np.mean(array)\n",
    "normalized_array = (array - mean) / std"
   ]
  },
  {
   "cell_type": "code",
   "execution_count": null,
   "metadata": {},
   "outputs": [],
   "source": [
    "# model\n",
    "\n",
    "def sigmoid(x):\n",
    "    return 1 / (1 + np.exp(-x))\n",
    "\n",
    "def sigmoid_deriv(x):\n",
    "    return x * (1 - x)\n",
    "\n",
    "# Two layer neural network with one hidden layer\n",
    "class TDNN(object):\n",
    "\n",
    "    def __init__(self, delay_line_length, hidden_layer_size, learning_rate):\n",
    "        self.output_layer_size = 1 # predict one next value from n previous values\n",
    "        self.delay_line_length = delay_line_length\n",
    "        self.hidden_layer_size = hidden_layer_size\n",
    "        self.learning_rate = learning_rate\n",
    "        \n",
    "        self.initialize_weights()\n",
    "        self.initialize_biases()\n",
    "        \n",
    "    def initialize_weights(self):\n",
    "        \"\"\"Perform a simple random initialization of the weights\"\"\"\n",
    "        self.weights_hidden_layer = np.random.rand(self.delay_line_length, self.hidden_layer_size)\n",
    "        self.weights_output_layer = np.random.rand(self.hidden_layer_size, self.output_layer_size)\n",
    "    \n",
    "    def initialize_biases(self):\n",
    "        self.bias_hidden_layer = np.random.rand(1, self.hidden_layer_size)\n",
    "        self.bias_output_layer = np.random.rand(1, self.output_layer_size)\n",
    "        \n",
    "    def forward(self, input_data):\n",
    "        # TODO delete this\n",
    "        assert len(input_data) == self.delay_line_length, \"Input data must have the same length as the delay line\"\n",
    "        \n",
    "        self.hidden_layer_output = sigmoid(np.dot(input_data, self.weights_hidden_layer) + self.bias_hidden_layer)\n",
    "        self.output_layer_output = sigmoid(np.dot(self.hidden_layer_output, self.weights_output_layer) + self.bias_output_layer)\n",
    "        return self.output_layer_output\n",
    "    \n",
    "    def backward(self, input_data, desired_data)\n"
   ]
  },
  {
   "cell_type": "code",
   "execution_count": null,
   "metadata": {},
   "outputs": [],
   "source": []
  }
 ],
 "metadata": {
  "kernelspec": {
   "display_name": ".venv",
   "language": "python",
   "name": "python3"
  },
  "language_info": {
   "codemirror_mode": {
    "name": "ipython",
    "version": 3
   },
   "file_extension": ".py",
   "mimetype": "text/x-python",
   "name": "python",
   "nbconvert_exporter": "python",
   "pygments_lexer": "ipython3",
   "version": "3.13.0"
  }
 },
 "nbformat": 4,
 "nbformat_minor": 2
}
